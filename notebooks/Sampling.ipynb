{
 "cells": [
  {
   "cell_type": "code",
   "execution_count": null,
   "id": "2cb63ef4",
   "metadata": {},
   "outputs": [],
   "source": [
    "import glob\n",
    "import jsonlines\n",
    "import os\n",
    "import pandas as pd\n",
    "import re\n",
    "from collections import OrderedDict"
   ]
  },
  {
   "cell_type": "code",
   "execution_count": null,
   "id": "12f127a5",
   "metadata": {},
   "outputs": [],
   "source": [
    "class sampling_dir:\n",
    "    # dense_medium.logit_lens.24.sample_output.temp0_4.topk_40.txt\n",
    "    rgx_toplevel = re.compile(\"^([^.]*)\\.([^.]*).(\\d*)\\.sample_output(.*)\\.txt$\")\n",
    "    rgx_temp = re.compile(\"^temp([0-9_]*)$\")\n",
    "    rgx_topk = re.compile(\"^topk_(\\d*)$\")\n",
    "    \n",
    "    #model_dtype = pd.CategoricalDtype(models.all, ordered=True)\n",
    "    \n",
    "    def __init__(self, path):\n",
    "        self.path = path\n",
    "\n",
    "    @classmethod\n",
    "    def parse_results_file_name(cls, file_name):\n",
    "        res = OrderedDict()\n",
    "        m = cls.rgx_toplevel.match(file_name)\n",
    "        if m is None:\n",
    "            print(\"WARNING: cannot parse results file '{}'\".format(file_name))\n",
    "            return None\n",
    "\n",
    "        run_id = m[1]\n",
    "        res['path'] = file_name\n",
    "        res['model'] = m[1]\n",
    "        res['layer'] = int(m[3])\n",
    "        res['depth_method'] = m[2]\n",
    "        \n",
    "        args = filter(None, m[4].split('.'))\n",
    "        for arg in args:\n",
    "            m_temp = cls.rgx_temp.match(arg)\n",
    "            if m_temp is not None:\n",
    "                res['temp'] = float(m_temp[1].replace('_', '.'))\n",
    "                continue\n",
    "\n",
    "            m_topk = cls.rgx_topk.match(arg)\n",
    "            if m_topk is not None:\n",
    "                res['top_k'] = int(m_topk[1])\n",
    "                continue\n",
    "        \n",
    "            print(\"WARNING: cannot parse run id '{}' argument '{}'\".format(run_id, arg))\n",
    "\n",
    "        return res\n",
    "\n",
    "    def as_df(self):\n",
    "        dict_list = []\n",
    "        for file_path in glob.glob(os.path.join(self.path, \"*.txt\")):\n",
    "            # Parse the file name and add\n",
    "            meta = self.parse_results_file_name(os.path.basename(file_path))\n",
    "            if meta is None:\n",
    "                continue\n",
    "\n",
    "            # Read the json file into a data frame\n",
    "\n",
    "            with open(file_path) as f:\n",
    "                try:\n",
    "                    lines = [line for line in jsonlines.Reader(f)]\n",
    "                except Exception as e:\n",
    "                    print(\"WARNING: cannot load file '{}'\".format(file_path))\n",
    "                    print(e)\n",
    "                    continue\n",
    "\n",
    "            for result_json in lines:\n",
    "                record = dict()\n",
    "                for key in result_json.keys():\n",
    "                    record[key] = result_json[key]\n",
    "\n",
    "                for meta_key in meta:\n",
    "                    record[meta_key] = meta[meta_key]\n",
    "                dict_list.append(record)\n",
    "\n",
    "        res = pd.json_normalize(dict_list)\n",
    "\n",
    "        def set_col_type(col_name, t):\n",
    "            if col_name in res:\n",
    "                res[col_name] = res[col_name].astype(t)\n",
    "        set_col_type('path', str)\n",
    "        set_col_type('layer', pd.Int64Dtype())\n",
    "        set_col_type('temp', pd.Float32Dtype())\n",
    "        set_col_type('top_k', pd.Int64Dtype())\n",
    "\n",
    "        return res\n"
   ]
  },
  {
   "cell_type": "code",
   "execution_count": null,
   "id": "75e042e9",
   "metadata": {},
   "outputs": [],
   "source": [
    "df = sampling_dir(\"/mnt/ssd-1/igor/gpt-neox/sampling\").as_df()"
   ]
  },
  {
   "cell_type": "code",
   "execution_count": null,
   "id": "f8c41946",
   "metadata": {},
   "outputs": [],
   "source": [
    "#'context', 'text', 'length', 'finished', 'message', 'duration_seconds', 'path', 'model', 'layer', 'depth_method', 'temp', 'top_k'\n",
    "df[[\"context\", \"model\", \"layer\", \"depth_method\", \"temp\", \"top_k\", \"text\"]].head(100)"
   ]
  },
  {
   "cell_type": "code",
   "execution_count": null,
   "id": "e7dc4582",
   "metadata": {},
   "outputs": [],
   "source": [
    "def show_table(context, model=\"dense_medium\", depth_method=\"extra_linear\", temp=None, top_k=None):\n",
    "    df2 = df[(df[\"context\"] == context) & (df[\"model\"]==model) & (df[\"depth_method\"] == depth_method) & (df[\"temp\"] == temp) & (df[\"top_k\"] == top_k)]\n",
    "    return df2[[\"layer\", \"text\", \"temp\", \"top_k\"]].sort_values(\"layer\")"
   ]
  },
  {
   "cell_type": "code",
   "execution_count": null,
   "id": "bd765812",
   "metadata": {},
   "outputs": [],
   "source": [
    "show_table(\"At its peak, the Roman\", temp=0.4, top_k=40).head(500)"
   ]
  },
  {
   "cell_type": "code",
   "execution_count": null,
   "id": "69b688b5",
   "metadata": {},
   "outputs": [],
   "source": [
    "contexts = df[\"context\"].unique()"
   ]
  },
  {
   "cell_type": "code",
   "execution_count": null,
   "id": "02487533",
   "metadata": {},
   "outputs": [],
   "source": [
    "df_list = []\n",
    "for context in contexts:\n",
    "    depth_methods = [\"logit_lens\", \"extra_linear\"]\n",
    "    dfs = [show_table(context, temp=0.4, top_k=40, depth_method=depth_method) for depth_method in depth_methods]\n",
    "\n",
    "    df2 = dfs[0].merge(dfs[1], on=[\"layer\", \"temp\", \"top_k\"], suffixes=[\".\" + dm for dm in depth_methods])\n",
    "    df2[\"context\"] = context\n",
    "    df2 = df2[[\"context\", \"temp\", \"top_k\", \"layer\", \"text.logit_lens\", \"text.extra_linear\"]]\n",
    "    df_list.append(df2)\n",
    "pd.concat(df_list).to_csv(\"sampling.csv\")"
   ]
  }
 ],
 "metadata": {
  "kernelspec": {
   "display_name": "Python 3 (ipykernel)",
   "language": "python",
   "name": "python3"
  },
  "language_info": {
   "codemirror_mode": {
    "name": "ipython",
    "version": 3
   },
   "file_extension": ".py",
   "mimetype": "text/x-python",
   "name": "python",
   "nbconvert_exporter": "python",
   "pygments_lexer": "ipython3",
   "version": "3.8.10"
  }
 },
 "nbformat": 4,
 "nbformat_minor": 5
}
