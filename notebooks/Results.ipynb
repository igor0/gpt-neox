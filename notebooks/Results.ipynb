{
 "cells": [
  {
   "cell_type": "code",
   "execution_count": null,
   "id": "335fb8ab",
   "metadata": {},
   "outputs": [],
   "source": [
    "!pip install seaborn"
   ]
  },
  {
   "cell_type": "code",
   "execution_count": null,
   "id": "82d8d668",
   "metadata": {},
   "outputs": [],
   "source": [
    "import glob\n",
    "import json\n",
    "import os\n",
    "import pandas as pd\n",
    "import re\n",
    "import seaborn as sns\n",
    "\n",
    "from collections import OrderedDict\n",
    "from glom import glom\n",
    "\n",
    "class tasks:\n",
    "    default = [\"lambada\", \"piqa\", \"hellaswag\", \"winogrande\", \"mathqa\", \"pubmedqa\"]\n",
    "    ppl = [\"wikitext\"]\n",
    "    blimp = [\n",
    "        \"blimp_adjunct_island\", \"blimp_anaphor_gender_agreement\", \"blimp_anaphor_number_agreement\",\n",
    "        \"blimp_animate_subject_passive\", \"blimp_animate_subject_trans\", \"blimp_causative\", \"blimp_complex_NP__island\",\n",
    "        \"blimp_coordinate_structure_constraint_complex_left_branch\", \"blimp_coordinate_structure_constraint_object_extraction\",\n",
    "        \"blimp_determiner_noun_agreement_1\", \"blimp_determiner_noun_agreement_2\", \"blimp_determiner_noun_agreement_irregular_1\",\n",
    "        \"blimp_determiner_noun_agreement_irregular_2\", \"blimp_determiner_noun_agreement_with_adj_1\",\n",
    "        \"blimp_determiner_noun_agreement_with_adj_2\", \"blimp_determiner_noun_agreement_with_adj_irregular_1\",\n",
    "        \"blimp_determiner_noun_agreement_with_adj_irregular_2\", \"blimp_distractor_agreement_relational_noun\",\n",
    "        \"blimp_distractor_agreement_relative_clause\", \"blimp_drop_argument\", \"blimp_ellipsis_n_bar_1\",\n",
    "        \"blimp_ellipsis_n_bar_2\", \"blimp_existential_there_object_raising\", \"blimp_existential_there_quantifiers_1\",\n",
    "        \"blimp_existential_there_quantifiers_2\", \"blimp_existential_there_subject_raising\", \"blimp_expletive_it_object_raising\",\n",
    "        \"blimp_inchoative\", \"blimp_intransitive\", \"blimp_irregular_past_participle_adjectives\",\n",
    "        \"blimp_irregular_past_participle_verbs\", \"blimp_irregular_plural_subject_verb_agreement_1\",\n",
    "        \"blimp_irregular_plural_subject_verb_agreement_2\", \"blimp_left_branch_island_echo_question\",\n",
    "        \"blimp_left_branch_island_simple_question\", \"blimp_matrix_question_npi_licensor_present\", \"blimp_npi_present_1\",\n",
    "        \"blimp_npi_present_2\", \"blimp_only_npi_licensor_present\", \"blimp_only_npi_scope\", \"blimp_passive_1\", \"blimp_passive_2\",\n",
    "        \"blimp_principle_A_c_command\", \"blimp_principle_A_case_1\", \"blimp_principle_A_case_2\", \"blimp_principle_A_domain_1\",\n",
    "        \"blimp_principle_A_domain_2\", \"blimp_principle_A_domain_3\", \"blimp_principle_A_reconstruction\",\n",
    "        \"blimp_regular_plural_subject_verb_agreement_1\", \"blimp_regular_plural_subject_verb_agreement_2\",\n",
    "        \"blimp_sentential_negation_npi_licensor_present\", \"blimp_sentential_negation_npi_scope\", \"blimp_sentential_subject_island\",\n",
    "        \"blimp_superlative_quantifiers_1\", \"blimp_superlative_quantifiers_2\", \"blimp_tough_vs_raising_1\",\n",
    "        \"blimp_tough_vs_raising_2\", \"blimp_transitive\", \"blimp_wh_island\", \"blimp_wh_questions_object_gap\",\n",
    "        \"blimp_wh_questions_subject_gap\", \"blimp_wh_questions_subject_gap_long_distance\", \"blimp_wh_vs_that_no_gap\",\n",
    "        \"blimp_wh_vs_that_no_gap_long_distance\", \"blimp_wh_vs_that_with_gap\", \"blimp_wh_vs_that_with_gap_long_distance\"\n",
    "    ]\n",
    "\n",
    "class models:\n",
    "    all = ['dense_small', 'dense_medium', 'dense_large']\n",
    "\n",
    "class results_dir:\n",
    "    rgx_toplevel = re.compile(\"^(.*)_eval_results_([0-9-]+).json$\")\n",
    "    rgx_plain = re.compile(\"^[^.]+$\")\n",
    "    rgx_step = re.compile(\"(^[^.]+)\\.global_step(\\d+)$\")\n",
    "    rgx_depth = re.compile(\"^([^.]+)\\.([a-z_]*)\\.(\\d+)$\")\n",
    "    \n",
    "    model_dtype = pd.CategoricalDtype(\n",
    "        models.all, \n",
    "        ordered=True\n",
    "    )\n",
    "    depth_method_dtype = pd.CategoricalDtype(\n",
    "        [\"extra_linear\", \"final_linear\", \"logit_lens\"]\n",
    "    )\n",
    "    \n",
    "    def __init__(self, path):\n",
    "        self.path = path\n",
    "    \n",
    "    @staticmethod\n",
    "    def rchop(s, suffix):\n",
    "        if suffix and s.endswith(suffix):\n",
    "            return s[:-len(suffix)]\n",
    "        return s\n",
    "\n",
    "    @staticmethod\n",
    "    def canonical_model_name(name):\n",
    "        return results_dir.rchop(name, \"_checkpoints\")\n",
    "\n",
    "    @classmethod\n",
    "    def parse_results_file_name(cls, file_name):\n",
    "        res = OrderedDict()\n",
    "        m = cls.rgx_toplevel.match(file_name)\n",
    "        if m is None:\n",
    "            print(\"WARNING: cannot parse results file '{}'\".format(file_name))\n",
    "            return None\n",
    "\n",
    "        run_id = m[1]\n",
    "        res['path'] = file_name\n",
    "        res['timestamp'] = m[2]\n",
    "\n",
    "        m_step = cls.rgx_step.match(run_id)\n",
    "        if m_step is not None:\n",
    "            res['model'] = cls.canonical_model_name(m_step[1])\n",
    "            res['step'] = int(m_step[2])\n",
    "            return res\n",
    "\n",
    "        m_depth = cls.rgx_depth.match(run_id)\n",
    "        if m_depth is not None:\n",
    "            res['model'] = cls.canonical_model_name(m_depth[1])\n",
    "            res['layer'] = int(m_depth[3])\n",
    "            res['depth_method'] = m_depth[2]\n",
    "            return res\n",
    "\n",
    "        m_plain = cls.rgx_plain.match(run_id)\n",
    "        if m_plain is not None:\n",
    "            res['model'] = cls.canonical_model_name(m_plain[0])\n",
    "            return res\n",
    "\n",
    "        print(\"WARNING: cannot parse run id '{}'\".format(run_id))\n",
    "        return None\n",
    "\n",
    "    def as_df(self):\n",
    "        dict_list = []\n",
    "        for file_path in glob.glob(os.path.join(self.path, \"*.json\")):\n",
    "            # Parse the file name and add\n",
    "            meta = self.parse_results_file_name(os.path.basename(file_path))\n",
    "            if meta is None:\n",
    "                continue\n",
    "\n",
    "            # Read the json file into a data frame\n",
    "\n",
    "            with open(file_path) as f:\n",
    "                try:\n",
    "                    result_json = json.load(f)\n",
    "                except:\n",
    "                    print(\"WARNING: cannot load file '{}'\".format(file_path))\n",
    "                    continue\n",
    "\n",
    "            records = []\n",
    "            for task in result_json.keys():\n",
    "                for metric in result_json[task]:\n",
    "                    record = dict()\n",
    "                    record[\"task\"] = task\n",
    "                    record[\"metric\"] = metric\n",
    "                    record[\"value\"] = result_json[task][metric]\n",
    "\n",
    "                    meta_pos = 0\n",
    "                    for meta_key in meta:\n",
    "                        record[meta_key] = meta[meta_key]\n",
    "                    dict_list.append(record)\n",
    "\n",
    "        res = pd.json_normalize(dict_list)\n",
    "\n",
    "        if 'lens' not in res:\n",
    "            res['lens'] = None\n",
    "\n",
    "        def set_col_type(col_name, t):\n",
    "            if col_name in res:\n",
    "                res[col_name] = res[col_name].astype(t)\n",
    "        set_col_type('path', str)\n",
    "        set_col_type('model', self.model_dtype)\n",
    "        set_col_type('step', pd.Int64Dtype())\n",
    "        set_col_type('layer', pd.Int64Dtype())\n",
    "        set_col_type('depth_method', self.depth_method_dtype)\n",
    "        set_col_type('task', str)\n",
    "        set_col_type('metric', str)\n",
    "        set_col_type('value', float)\n",
    "\n",
    "        return res\n",
    "\n",
    "class plot:\n",
    "    @staticmethod\n",
    "    def display_name(axis, value):\n",
    "        if axis == \"depth_method\":\n",
    "            if value == \"extra_linear\":\n",
    "                return \"tuned extra projection\"\n",
    "            if value == \"final_linear\":\n",
    "                return \"tuned unembedding\"\n",
    "            elif value == \"logit_lens\":\n",
    "                return \"logit lens\"\n",
    "        if axis == \"model\":\n",
    "            return value.replace('_', ' ')\n",
    "        return value\n",
    "\n",
    "    @staticmethod\n",
    "    def metric_display_name(metric):\n",
    "        if metric == \"acc\":\n",
    "            return \"accuracy\"\n",
    "        if metric == \"bits_per_byte\":\n",
    "            return \"bits per byte\"\n",
    "        return metric\n",
    "\n",
    "    @staticmethod\n",
    "    def by_axis2(df, metric, axes, x_axis):\n",
    "        display_metric = plot.metric_display_name(metric)\n",
    "        \n",
    "        expr = df[x_axis].notnull() & (r[\"metric\"] == metric)\n",
    "        lists = 0\n",
    "        hue = None\n",
    "        title = None\n",
    "        \n",
    "        for axis, constraint in axes:\n",
    "            if type(constraint) is not list:\n",
    "                expr = expr & (r[axis] == constraint)\n",
    "                \n",
    "                constraint_display = plot.display_name(axis, constraint)\n",
    "                if title is None:\n",
    "                    title = constraint_display\n",
    "                else:\n",
    "                    title = title + \", \" + constraint_display\n",
    "            else:\n",
    "                expr = expr & (r[axis].isin(constraint))\n",
    "                hue = axis\n",
    "                lists = lists + 1\n",
    "        if lists > 1:\n",
    "            raise ValueError(\"At most one of the axes should be a list\")\n",
    "\n",
    "        df = df[expr].rename(columns={\"value\": display_metric})\n",
    "        sns.lineplot(data=df, x=x_axis, y=display_metric, hue=hue, marker='o').set_title(title)\n",
    "        return df\n",
    "\n",
    "    @staticmethod\n",
    "    def by_step(df, metric, model, task):\n",
    "        return plot.by_axis2(df, metric, [(\"model\", model), (\"task\", task)], \"step\")\n",
    "\n",
    "    @staticmethod\n",
    "    def by_layer(df, metric, model, task, depth_method=[\"logit_lens\", \"extra_linear\", \"final_linear\"]):\n",
    "        return plot.by_axis2(df, metric, [(\"model\", model), (\"task\", task), (\"depth_method\", depth_method)], \"layer\")\n",
    "\n",
    "    @staticmethod\n",
    "    def by_scale(df, metric, tasks):\n",
    "        display_metric = plot.metric_display_name(metric)\n",
    "\n",
    "        df = df[(df[\"lens\"].isnull() & df[\"step\"].isnull() & df[\"layer\"].isnull() & r[\"task\"].isin(tasks)) & (r[\"metric\"] == metric)]\n",
    "        df = df.rename(columns={\"value\": display_metric})\n",
    "        sns.lineplot(data=df, x=\"model\", y=display_metric, hue=\"task\", marker='o')\n",
    "        return df"
   ]
  },
  {
   "cell_type": "code",
   "execution_count": null,
   "id": "54b6b312",
   "metadata": {},
   "outputs": [],
   "source": [
    "r = results_dir(\"/mnt/ssd-1/igor/gpt-neox/results\").as_df()"
   ]
  },
  {
   "cell_type": "code",
   "execution_count": null,
   "id": "d145ece7",
   "metadata": {},
   "outputs": [],
   "source": [
    "sns.set(rc = {'figure.figsize':(15,8)})"
   ]
  },
  {
   "cell_type": "code",
   "execution_count": null,
   "id": "0e04a804",
   "metadata": {},
   "outputs": [],
   "source": [
    "d = plot.by_layer(r, \"acc\", \"dense_small\", tasks.default, \"extra_linear\")"
   ]
  },
  {
   "cell_type": "code",
   "execution_count": null,
   "id": "04d64eca",
   "metadata": {},
   "outputs": [],
   "source": [
    "d = plot.by_layer(r, \"bits_per_byte\", \"dense_small\", tasks.ppl, \"extra_linear\")"
   ]
  },
  {
   "cell_type": "code",
   "execution_count": null,
   "id": "2c2d6b9e",
   "metadata": {},
   "outputs": [],
   "source": [
    "d = plot.by_layer(r, \"bits_per_byte\", models.all, \"wikitext\", \"extra_linear\")"
   ]
  },
  {
   "cell_type": "code",
   "execution_count": null,
   "id": "090f60be",
   "metadata": {},
   "outputs": [],
   "source": [
    "d = plot.by_layer(r, \"acc\", models.all, \"lambada\", \"extra_linear\")"
   ]
  },
  {
   "cell_type": "code",
   "execution_count": null,
   "id": "6a0a5d8a",
   "metadata": {},
   "outputs": [],
   "source": [
    "d = plot.by_layer(r, \"acc\", \"dense_small\", \"hellaswag\")"
   ]
  },
  {
   "cell_type": "code",
   "execution_count": null,
   "id": "16be5c90",
   "metadata": {},
   "outputs": [],
   "source": [
    "d = plot.by_layer(r, \"bits_per_byte\", \"dense_small\", \"wikitext\")"
   ]
  },
  {
   "cell_type": "code",
   "execution_count": null,
   "id": "603d081a",
   "metadata": {},
   "outputs": [],
   "source": [
    "d = plot.by_layer(r, \"acc\", \"dense_small\", \"piqa\")"
   ]
  },
  {
   "cell_type": "code",
   "execution_count": null,
   "id": "f7eff4bc",
   "metadata": {},
   "outputs": [],
   "source": [
    "d = plot.by_layer(r, \"acc\", \"dense_small\", \"lambada\")"
   ]
  },
  {
   "cell_type": "code",
   "execution_count": null,
   "id": "e5e70012",
   "metadata": {},
   "outputs": [],
   "source": [
    "d = plot.by_layer(r, \"acc\", \"dense_small\", \"mathqa\")"
   ]
  },
  {
   "cell_type": "code",
   "execution_count": null,
   "id": "baaf4256",
   "metadata": {},
   "outputs": [],
   "source": [
    "d = plot.by_step(r, \"acc\", \"dense_medium\", tasks.default)"
   ]
  },
  {
   "cell_type": "code",
   "execution_count": null,
   "id": "c8d0ba9c",
   "metadata": {},
   "outputs": [],
   "source": [
    "d = plot.by_step(r, \"bits_per_byte\", \"dense_medium\", \"wikitext\")"
   ]
  },
  {
   "cell_type": "code",
   "execution_count": null,
   "id": "d2e53a8a",
   "metadata": {},
   "outputs": [],
   "source": [
    "d = plot.by_step(r, \"bits_per_byte\", models.all, \"wikitext\")"
   ]
  },
  {
   "cell_type": "code",
   "execution_count": null,
   "id": "75252835",
   "metadata": {},
   "outputs": [],
   "source": [
    "d = plot.by_step(r, \"acc\", models.all, \"lambada\")"
   ]
  },
  {
   "cell_type": "code",
   "execution_count": null,
   "id": "90fe0f99",
   "metadata": {},
   "outputs": [],
   "source": [
    "d = plot.by_scale(r, \"acc\", tasks.default)"
   ]
  },
  {
   "cell_type": "code",
   "execution_count": null,
   "id": "d49d1410",
   "metadata": {},
   "outputs": [],
   "source": [
    "d = plot.by_scale(r, \"bits_per_byte\", tasks.ppl)"
   ]
  }
 ],
 "metadata": {
  "kernelspec": {
   "display_name": "Python 3 (ipykernel)",
   "language": "python",
   "name": "python3"
  },
  "language_info": {
   "codemirror_mode": {
    "name": "ipython",
    "version": 3
   },
   "file_extension": ".py",
   "mimetype": "text/x-python",
   "name": "python",
   "nbconvert_exporter": "python",
   "pygments_lexer": "ipython3",
   "version": "3.8.10"
  }
 },
 "nbformat": 4,
 "nbformat_minor": 5
}
